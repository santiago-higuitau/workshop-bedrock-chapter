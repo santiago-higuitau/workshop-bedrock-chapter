{
 "cells": [
  {
   "cell_type": "code",
   "execution_count": null,
   "metadata": {},
   "outputs": [],
   "source": [
    "import os\n",
    "import json\n",
    "from datetime import datetime, timedelta\n",
    "from itertools import chain\n",
    "import requests\n",
    "from loguru import logger\n",
    "import pandas as pd\n",
    "import boto3"
   ]
  },
  {
   "cell_type": "markdown",
   "metadata": {},
   "source": [
    "**Simple Test**"
   ]
  },
  {
   "cell_type": "code",
   "execution_count": null,
   "metadata": {},
   "outputs": [],
   "source": [
    "# Profile Session\n",
    "client_session = boto3.Session(profile_name='your-profile-name')\n",
    "agent_client = client_session.client('bedrock-agent-runtime')\n",
    "s3_service = client_session.client('s3')\n",
    "bedrock_service = client_session.client('bedrock-runtime')\n",
    "\n",
    "stage = 'prod'"
   ]
  },
  {
   "cell_type": "code",
   "execution_count": 47,
   "metadata": {},
   "outputs": [],
   "source": [
    "vb = {\n",
    "    \"modelId\": \"anthropic.claude-3-haiku-20240307-v1:0\",\n",
    "    \"contentType\": \"application/json\",\n",
    "    \"accept\": \"application/json\",\n",
    "    \"body\": {\n",
    "        \"anthropic_version\": \"bedrock-2023-05-31\",\n",
    "        \"max_tokens\": 400,\n",
    "        \"temperature\": 0.7,\n",
    "        \"top_p\": 0.8,\n",
    "        \"top_k\": 100,\n",
    "        \"messages\": [\n",
    "            {\n",
    "                \"role\": \"user\",\n",
    "                \"content\": [\n",
    "                    {\n",
    "                        \"type\": \"text\",\n",
    "                        \"text\": f\"Qué es GEN AI?\"\n",
    "                    }\n",
    "                ]\n",
    "            }\n",
    "        ]\n",
    "    }\n",
    "}"
   ]
  },
  {
   "cell_type": "code",
   "execution_count": 49,
   "metadata": {},
   "outputs": [
    {
     "name": "stdout",
     "output_type": "stream",
     "text": [
      "GEN AI se refiere a la inteligencia artificial generativa, que es un campo emergente de la IA que se enfoca en la creación de contenido nuevo y original, como texto, imágenes, audio y video, a partir de datos de entrenamiento.\n",
      "\n",
      "Algunas características clave de la GEN AI incluyen:\n",
      "\n",
      "- Capacidad de generar contenido de forma autónoma, sin estar limitada a tareas predefinidas.\n",
      "- Utilización de modelos de lenguaje y redes neuronales profundas para aprender patrones en los datos de entrenamiento.\n",
      "- Generación de contenido novedoso y creativo, más allá de la simple combinación o recombinación de elementos existentes.\n",
      "- Aplicaciones en áreas como asistentes virtuales, creación de contenido, diseño, ciencia y más.\n",
      "\n",
      "Ejemplos prominentes de GEN AI incluyen GPT-3 para generación de texto, DALL-E para generación de imágenes y modelos de IA como Whisper para transcripción de audio. Esta tecnología plantea tanto oportunidades como desafíos éticos y de seguridad que aún se están explorando."
     ]
    }
   ],
   "source": [
    "response_bedrock = bedrock_service.invoke_model_with_response_stream(\n",
    "    modelId=vb['modelId'],\n",
    "    contentType=vb['contentType'],\n",
    "    body=json.dumps(vb['body'])\n",
    ")\n",
    "\n",
    "# Get Body\n",
    "stream_object = response_bedrock['body']\n",
    "\n",
    "answer = ''\n",
    "for event in stream_object:\n",
    "    chunk = event.get('chunk')\n",
    "    if chunk:\n",
    "        try:\n",
    "            # Decode Txt\n",
    "            decode_txt = json.loads(chunk.get('bytes').decode())\n",
    "            ouput_text = decode_txt.get('delta', {}).get('text', None)\n",
    "\n",
    "            # Validate Txt\n",
    "            if ouput_text:\n",
    "                print(ouput_text, end=\"\", flush=True)\n",
    "                answer += ouput_text\n",
    "        except (KeyError, TypeError, ValueError) as e:\n",
    "            print(f'Error while generating answer: {str(e)}')"
   ]
  },
  {
   "cell_type": "code",
   "execution_count": null,
   "metadata": {},
   "outputs": [],
   "source": []
  }
 ],
 "metadata": {
  "kernelspec": {
   "display_name": ".venv",
   "language": "python",
   "name": "python3"
  },
  "language_info": {
   "codemirror_mode": {
    "name": "ipython",
    "version": 3
   },
   "file_extension": ".py",
   "mimetype": "text/x-python",
   "name": "python",
   "nbconvert_exporter": "python",
   "pygments_lexer": "ipython3",
   "version": "3.10.10"
  }
 },
 "nbformat": 4,
 "nbformat_minor": 2
}
